{
 "cells": [
  {
   "cell_type": "code",
   "execution_count": 1,
   "id": "07cf57c0",
   "metadata": {},
   "outputs": [
    {
     "name": "stderr",
     "output_type": "stream",
     "text": [
      "/home/shakthip/miniconda3/envs/dem/lib/python3.10/site-packages/torchmetrics/utilities/imports.py:22: UserWarning: pkg_resources is deprecated as an API. See https://setuptools.pypa.io/en/latest/pkg_resources.html. The pkg_resources package is slated for removal as early as 2025-11-30. Refrain from using this package or pin to Setuptools<81.\n",
      "  from pkg_resources import DistributionNotFound, get_distribution\n"
     ]
    }
   ],
   "source": [
    "import torch\n",
    "import os\n",
    "from dem.energies.gmm_energy import GMM\n",
    "import matplotlib.pyplot as plt\n",
    "import umap\n",
    "import numpy as np\n",
    "from scipy.stats import gaussian_kde\n",
    "import warnings\n",
    "\n",
    "warnings.filterwarnings(\"ignore\", category=FutureWarning)"
   ]
  },
  {
   "cell_type": "code",
   "execution_count": 2,
   "id": "a69333e3",
   "metadata": {},
   "outputs": [],
   "source": [
    "base_path = \"outputs/gmm_8modes_dim\"\n",
    "# dims = [2, 4, 8, 16, 32, 64, 128]  # Adjust as needed for higher dimensions\n",
    "dims = [2]\n",
    "gen_files = [f\"{base_path}{d}/train/samples_10000.pt\" for d in dims]"
   ]
  },
  {
   "cell_type": "code",
   "execution_count": 3,
   "id": "d8126dd5",
   "metadata": {},
   "outputs": [],
   "source": [
    "def create_and_save_plots(gen_samples_unnorm, train_samples_unnorm, dim, save_dir):\n",
    "    # Subsample train samples\n",
    "    idx = np.random.choice(train_samples_unnorm.shape[0], 10000, replace=False)\n",
    "    train_samples_sub = train_samples_unnorm[idx]\n",
    "\n",
    "    # --- UMAP reduction if needed ---\n",
    "    if dim > 2:\n",
    "        reducer = umap.UMAP(n_components=2, n_jobs=1)\n",
    "        train_samples_2d = reducer.fit_transform(train_samples_sub.numpy())\n",
    "        gen_samples_2d = reducer.transform(gen_samples_unnorm.numpy())\n",
    "    else:\n",
    "        train_samples_2d = train_samples_sub.numpy()\n",
    "        gen_samples_2d = gen_samples_unnorm.numpy()\n",
    "\n",
    "    # --- Build grid for contours ---\n",
    "    x = np.linspace(min(train_samples_2d[:, 0].min(), gen_samples_2d[:, 0].min()),\n",
    "                    max(train_samples_2d[:, 0].max(), gen_samples_2d[:, 0].max()), 200)\n",
    "    y = np.linspace(min(train_samples_2d[:, 1].min(), gen_samples_2d[:, 1].min()),\n",
    "                    max(train_samples_2d[:, 1].max(), gen_samples_2d[:, 1].max()), 200)\n",
    "    X, Y = np.meshgrid(x, y)\n",
    "    grid = np.vstack([X.ravel(), Y.ravel()]).T\n",
    "\n",
    "    # --- KDE for real ---\n",
    "    train_samples_2d_T = train_samples_2d.T\n",
    "    kde_real = gaussian_kde(train_samples_2d_T, bw_method=0.2)\n",
    "    Z_real = kde_real(grid.T).reshape(X.shape)\n",
    "\n",
    "    # --- Plot 1: Real contours + Generated scatter ---\n",
    "    plt.figure(figsize=(7, 6))\n",
    "    plt.scatter(train_samples_2d[:, 0], train_samples_2d[:, 1], s=8, alpha=0.6, label=\"Real\")\n",
    "    plt.scatter(gen_samples_2d[:, 0], gen_samples_2d[:, 1], s=8, alpha=0.3, label=\"Generated\")\n",
    "    plt.title(f\"Generated vs Real Contours (Dim {dim})\")\n",
    "    plt.legend()\n",
    "    plt.savefig(os.path.join(save_dir, f\"gen_vs_realContours_dim{dim}_.png\"), dpi=300, bbox_inches=\"tight\")\n",
    "    plt.close()\n",
    "\n",
    "    # --- Plot 2: Generated contours + Real scatter ---\n",
    "    plt.figure(figsize=(7, 6))\n",
    "    plt.contour(X, Y, Z_real, levels=8, cmap=\"inferno\", linewidths=1.1)\n",
    "    plt.scatter(gen_samples_2d[:, 0], gen_samples_2d[:, 1], s=8, alpha=0.6, label=\"Generated\")\n",
    "    plt.title(f\"Real vs Generated Contours (Dim {dim})\")\n",
    "    plt.legend()\n",
    "    plt.savefig(os.path.join(save_dir, f\"real_vs_genContours_dim{dim}_.png\"), dpi=300, bbox_inches=\"tight\")\n",
    "    plt.close()"
   ]
  },
  {
   "cell_type": "code",
   "execution_count": 4,
   "id": "d6507c9d",
   "metadata": {},
   "outputs": [],
   "source": [
    "for gen_path in gen_files:\n",
    "    # Extract dimension from path\n",
    "    dim = int(gen_path.split(\"dim\")[1].split(\"/\")[0])\n",
    "    \n",
    "    # Instantiate GMM with new settings\n",
    "    gmm_obj = GMM(\n",
    "        dimensionality=dim,\n",
    "        n_mixes=8,\n",
    "        loc_scaling=8,\n",
    "        log_var_scaling=1.0,  # Normalization factor as log variance scaling\n",
    "        data_normalization_factor=11,\n",
    "        device=\"cpu\",\n",
    "        train_set_size=100000,\n",
    "    )\n",
    "\n",
    "    # Get training set (reference)\n",
    "    train_samples = gmm_obj.setup_train_set().cpu()\n",
    "    train_samples_unnorm = gmm_obj.unnormalize(train_samples)\n",
    "\n",
    "    # Load generated set\n",
    "    gen_samples = torch.load(gen_path).cpu()\n",
    "    gen_samples_unnorm = gmm_obj.unnormalize(gen_samples)\n",
    "\n",
    "    # Create save directory from path\n",
    "    save_dir = os.path.dirname(gen_path)\n",
    "    \n",
    "    # Create and save plots\n",
    "    create_and_save_plots(gen_samples_unnorm, train_samples_unnorm, dim, save_dir)"
   ]
  },
  {
   "cell_type": "code",
   "execution_count": null,
   "id": "bfca9461",
   "metadata": {},
   "outputs": [],
   "source": []
  }
 ],
 "metadata": {
  "kernelspec": {
   "display_name": "dem",
   "language": "python",
   "name": "python3"
  },
  "language_info": {
   "codemirror_mode": {
    "name": "ipython",
    "version": 3
   },
   "file_extension": ".py",
   "mimetype": "text/x-python",
   "name": "python",
   "nbconvert_exporter": "python",
   "pygments_lexer": "ipython3",
   "version": "3.10.18"
  }
 },
 "nbformat": 4,
 "nbformat_minor": 5
}
